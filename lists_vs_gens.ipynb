{
 "cells": [
  {
   "cell_type": "markdown",
   "metadata": {
    "ExecuteTime": {
     "end_time": "2020-05-22T17:50:42.908133Z",
     "start_time": "2020-05-22T17:50:42.904268Z"
    }
   },
   "source": [
    "# How to Write Memory Efficient Loops in Python"
   ]
  },
  {
   "cell_type": "markdown",
   "metadata": {},
   "source": [
    "A visual guide to generators and three ways to implement them"
   ]
  },
  {
   "cell_type": "code",
   "execution_count": 1,
   "metadata": {
    "ExecuteTime": {
     "end_time": "2020-06-30T22:48:18.651414Z",
     "start_time": "2020-06-30T22:48:18.158060Z"
    }
   },
   "outputs": [],
   "source": [
    "import numpy as np\n",
    "import matplotlib.pyplot as plt\n",
    "plt.rcParams[\"font.family\"] = \"fantasy\"\n",
    "plt.rcParams[\"axes.linewidth\"] = 1.5"
   ]
  },
  {
   "cell_type": "markdown",
   "metadata": {},
   "source": [
    "## Intro"
   ]
  },
  {
   "cell_type": "markdown",
   "metadata": {},
   "source": [
    "In python, when you build a list of numbers, images, files, or any other object that you want to iterate through, you're essentially piling up memory as you put new items on the list, i.e. every time you do `your_list.append(new_item)` your list consumes a chunk of memory equal to `sys.getsizeof(new_item)`. The problem here is that if your list is too long or your items are too large (or a combination of the two) you might end up using too much memory or even run out of it. \n",
    "\n",
    "However, in most situations when you iterate through a list you only need to have access to the items one at a time and not everything all at once. An example that I run into a lot in my line of work is stacking images: Let's say I have about 500 2D images each with 1000 pixels on the side and I want to stack all of them together and take an average (replace this with your favorite memory consuming example, e.g. loading these images from file to train you awesome CNN model). \n",
    "\n",
    "One way to approach the stacking problem would be to build a list of all the images and then take the average! \n",
    "Very simple but not memory efficient. Putting 500 images with (1000 x 1000) `np.float64` pixels takes about 4 GB of memory,  which at first sight is not that big a deal. But what if you had 5000 images instead? Can you afford using 40 GB of RAM for a simple stacking exercise? How about 50,000 images? You get the idea...\n",
    "\n",
    "Here's what iterating through a list looks like: \n",
    "<img src=\"list.png\" height=\"100\"/>\n",
    "\n",
    "When you think about it, in order to stack and average 500 images you don't need to have access to all the items at once. Since at the end you only care about the aggregated value of each pixel, you can build a (1000 x 1000) pixel image and use it as a stack, then go through the list like this: pick the first item, add it to the stack, throw the item away, then pick the second item, add it to the stack, throw it away, and so on...\n",
    "\n",
    "<img src=\"gen.png\" height=\"100\"/>\n",
    "\n",
    "Since you're always only keeping the pixels values of the stack and the new item in memory, RAM consumption is equal to two images at a time instead of having the whole array sitting there in memory. This is exactly what a generator does! You can clearly see why this second approach uses less memory compared to the first one. Now let's see how to implement this in action.  "
   ]
  },
  {
   "cell_type": "markdown",
   "metadata": {},
   "source": [
    "## List Comprehension vs Generator Expression"
   ]
  },
  {
   "cell_type": "markdown",
   "metadata": {},
   "source": [
    "First, I'm going to write a function that goes through an iterable (e.g. a list) containing 2D images with `n_pixels` and stacks all the elements together. My plan is to use this function with both a list and a generator, then compare the memory consumption as a function of time. Also, in order to make the contents easily reproducible instead of using actual images I'm just going to generate 2D matrices of random numbers. "
   ]
  },
  {
   "cell_type": "code",
   "execution_count": 2,
   "metadata": {
    "ExecuteTime": {
     "end_time": "2020-06-30T22:48:20.406591Z",
     "start_time": "2020-06-30T22:48:20.402147Z"
    }
   },
   "outputs": [],
   "source": [
    "def stack_images(iterable, n_pixels):\n",
    "    \"\"\"stack the images in the iterable on a (n_pixel x n_pixel) canvas\"\"\"\n",
    "    \n",
    "    canvas = np.zeros((n_pixels,n_pixels))\n",
    "    \n",
    "    for item in iterable:\n",
    "        canvas += item\n",
    "        \n",
    "    return canvas\n",
    "\n",
    "def get_random_image(n_pixels):\n",
    "    \"\"\"create a random 2D image with n_pixels on the side\"\"\"\n",
    "    \n",
    "    return np.random.rand(n_pixels, n_pixels)"
   ]
  },
  {
   "cell_type": "markdown",
   "metadata": {},
   "source": [
    "Let's use a list comprehension to create our iterable. If you're not familiar with list comprehensions check out this fantastic [guide by Real Python](https://realpython.com/list-comprehension-python/). "
   ]
  },
  {
   "cell_type": "code",
   "execution_count": 3,
   "metadata": {
    "ExecuteTime": {
     "end_time": "2020-06-30T22:48:21.471243Z",
     "start_time": "2020-06-30T22:48:21.467298Z"
    }
   },
   "outputs": [],
   "source": [
    "def stack_using_list(n_images, n_pixels):\n",
    "    \"\"\"iterate through a list and stack the objects\"\"\"\n",
    "    \n",
    "    iterable = [get_random_image(n_pixels) for _ in range(n_images)]\n",
    "    stack_images(iterable, n_pixels)\n",
    "    \n",
    "    # not returning anything because I only care about the memory consumption in creating the iterable\n"
   ]
  },
  {
   "cell_type": "markdown",
   "metadata": {},
   "source": [
    "Now let's rewrite the same function this time using a generator. I wrote the previous function using a list comprehension instead of an explicit for loop because converting list comprehensions to a generator (or what we call a generator expression) is as easy as changing the square brackets `[...]` to parentheses `(...)`! "
   ]
  },
  {
   "cell_type": "code",
   "execution_count": 4,
   "metadata": {
    "ExecuteTime": {
     "end_time": "2020-06-30T22:48:22.425476Z",
     "start_time": "2020-06-30T22:48:22.422091Z"
    }
   },
   "outputs": [],
   "source": [
    "def stack_using_generator(n_images, n_pixels):\n",
    "    \"\"\"iterate through a generator and stack the objects\"\"\"\n",
    "    \n",
    "    # notice the parentheses instead of square brackets in the next line \n",
    "    iterable = (get_random_image(n_pixels) for _ in range(n_images))\n",
    "    stack_images(iterable, n_pixels)\n",
    "    \n",
    "    # not returning anything because I only care about the memory consumption in creating the iterable\n",
    "    "
   ]
  },
  {
   "cell_type": "markdown",
   "metadata": {},
   "source": [
    "You can barely even see the difference between the two functions but one uses way less memory than the other. Let's confirm this using the `memory_profiler` package. "
   ]
  },
  {
   "cell_type": "code",
   "execution_count": 5,
   "metadata": {
    "ExecuteTime": {
     "end_time": "2020-06-30T22:48:36.413888Z",
     "start_time": "2020-06-30T22:48:23.429770Z"
    }
   },
   "outputs": [],
   "source": [
    "# let's stack 500 2D images with a 1000 pixels on the side \n",
    "n_images = 500\n",
    "n_pixels = 1000\n",
    "\n",
    "# and let's take snapshots of memory usage every 0.2 seconds\n",
    "snapshot_interval = 0.2 # seconds\n",
    "\n",
    "# if you don't have memory_profiler you can install it using pip \n",
    "from memory_profiler import profile, memory_usage\n",
    "\n",
    "list_mem_usage = memory_usage((stack_using_list,(n_images, n_pixels)), interval=snapshot_interval)\n",
    "gen_mem_usage = memory_usage((stack_using_generator,(n_images, n_pixels)), interval=snapshot_interval)"
   ]
  },
  {
   "cell_type": "code",
   "execution_count": 6,
   "metadata": {
    "ExecuteTime": {
     "end_time": "2020-06-30T22:48:36.499235Z",
     "start_time": "2020-06-30T22:48:36.495233Z"
    }
   },
   "outputs": [],
   "source": [
    "# define the time arrays for the x axis\n",
    "list_time = np.arange(len(list_mem_usage)) * snapshot_interval\n",
    "gen_time = np.arange(len(gen_mem_usage)) * snapshot_interval"
   ]
  },
  {
   "cell_type": "markdown",
   "metadata": {},
   "source": [
    "And *Voila*!\n",
    "As you can clearly see memory usage grows linearly as we build the list of images, but remains constant when using generators. And here we get the extra bonus that the generator method runs faster, although that's not always the case. "
   ]
  },
  {
   "cell_type": "code",
   "execution_count": 12,
   "metadata": {
    "ExecuteTime": {
     "end_time": "2020-06-30T20:20:51.386283Z",
     "start_time": "2020-06-30T20:20:50.997330Z"
    }
   },
   "outputs": [
    {
     "data": {
      "text/plain": [
       "<matplotlib.legend.Legend at 0x10678eba8>"
      ]
     },
     "execution_count": 12,
     "metadata": {},
     "output_type": "execute_result"
    },
    {
     "data": {
      "image/png": "[encoded data removed]",
      "text/plain": [
       "<Figure size 900x600 with 1 Axes>"
      ]
     },
     "metadata": {
      "needs_background": "light"
     },
     "output_type": "display_data"
    }
   ],
   "source": [
    "plt.figure(dpi=150)\n",
    "plt.plot(list_time, list_mem_usage, '-o', label=\"list\" )\n",
    "plt.plot(gen_time, gen_mem_usage, '-x', label=\"generator\")\n",
    "\n",
    "\n",
    "plt.title(\"memory usage comparison\")\n",
    "plt.xlabel(\"time [s]\")\n",
    "plt.ylabel(\"memory [MiB]\")\n",
    "plt.legend()\n",
    "\n",
    "#plt.savefig(\"list_vs_gen.png\", dpi=150, bbox_inches=\"tight\")"
   ]
  },
  {
   "cell_type": "markdown",
   "metadata": {},
   "source": [
    "Creating generators using generator expressions can feel a bit limiting at times so now I will briefly describe two other methods for defining generators in python. "
   ]
  },
  {
   "cell_type": "markdown",
   "metadata": {},
   "source": [
    "## For Loops: Return vs Yield"
   ]
  },
  {
   "cell_type": "markdown",
   "metadata": {},
   "source": [
    "Another way to create generators is to use the famous `yield` statement. Before we see how yield works, let's rewrite the list comprehension as an explicit for loop so that we can draw a parallel again:"
   ]
  },
  {
   "cell_type": "code",
   "execution_count": 7,
   "metadata": {
    "ExecuteTime": {
     "end_time": "2020-06-30T22:48:36.570203Z",
     "start_time": "2020-06-30T22:48:36.565601Z"
    }
   },
   "outputs": [],
   "source": [
    "def list_iterable(n_images, n_pixels):\n",
    "    \"\"\"return a list of n_images number of 2D images with n_pixels on the side\"\"\"\n",
    "    \n",
    "    # this is the same as the list comprehension in the use_list function:\n",
    "    iterable = []\n",
    "    for _ in range(n_images):\n",
    "        iterable.append(get_image(n_pixels))\n",
    "    \n",
    "    return iterable"
   ]
  },
  {
   "cell_type": "markdown",
   "metadata": {},
   "source": [
    "In order to write this for loop as a generator, instead of appending the items to the list and returning the whole list, you can just yield the items at hand, in this case a random 2D image, one at a time. The following is the equivalent of the previous generator expression but written more expressively. "
   ]
  },
  {
   "cell_type": "code",
   "execution_count": 8,
   "metadata": {
    "ExecuteTime": {
     "end_time": "2020-06-30T22:48:36.638455Z",
     "start_time": "2020-06-30T22:48:36.633021Z"
    }
   },
   "outputs": [],
   "source": [
    "def gen_iterable(n_images, n_pixels):\n",
    "    \"\"\"return a generator of n_images number of 2D images with n_pixels on the side\"\"\"\n",
    "    \n",
    "    # some initialization code can go here\n",
    "    # this is why you might prefer a generator function to a generator expression\n",
    "    # e.g. you might need to start a counter or print a statement...\n",
    "    \n",
    "    print(\"starting the generator function...\")\n",
    "\n",
    "    for _ in range(n_images):\n",
    "        yield get_random_image(n_pixels)\n",
    "        \n",
    "    # and you can add some final steps here e.g.\n",
    "    print(\"Done!\")"
   ]
  },
  {
   "cell_type": "markdown",
   "metadata": {
    "ExecuteTime": {
     "end_time": "2020-06-30T19:41:02.357238Z",
     "start_time": "2020-06-30T19:41:02.349138Z"
    }
   },
   "source": [
    "This function is now the equivalent of your generator expression that you used as an iterable in the `stack_using_gen` function and it does the exact same thing but as you can see it's more customizable.  "
   ]
  },
  {
   "cell_type": "code",
   "execution_count": 9,
   "metadata": {
    "ExecuteTime": {
     "end_time": "2020-06-30T22:48:36.707625Z",
     "start_time": "2020-06-30T22:48:36.704372Z"
    }
   },
   "outputs": [],
   "source": [
    "# let's test drive this real quick!\n",
    "def stack_using_yield(n_images, n_pixels):\n",
    "    \"\"\"iterate through a generator and stack the objects\"\"\"\n",
    "    \n",
    "    iterable = gen_iterable(n_images, n_pixels)\n",
    "    stack_images(iterable, n_pixels)\n",
    "    "
   ]
  },
  {
   "cell_type": "code",
   "execution_count": 10,
   "metadata": {
    "ExecuteTime": {
     "end_time": "2020-06-30T22:48:41.434744Z",
     "start_time": "2020-06-30T22:48:36.781586Z"
    }
   },
   "outputs": [
    {
     "name": "stdout",
     "output_type": "stream",
     "text": [
      "starting the generator funtion...\n",
      "Done!\n"
     ]
    }
   ],
   "source": [
    "yield_mem_usage = memory_usage((stack_using_yield,(n_images, n_pixels)), interval=snapshot_interval)"
   ]
  },
  {
   "cell_type": "markdown",
   "metadata": {},
   "source": [
    "## Generator Class"
   ]
  },
  {
   "cell_type": "markdown",
   "metadata": {},
   "source": [
    "There is yet another way to write generators in python which I personally don't use often but am going to mention for the sake of completeness. If you need an even more customizable generator than the two previous methods you might want to use this one. "
   ]
  },
  {
   "cell_type": "code",
   "execution_count": 11,
   "metadata": {
    "ExecuteTime": {
     "end_time": "2020-06-30T22:48:41.514736Z",
     "start_time": "2020-06-30T22:48:41.510626Z"
    }
   },
   "outputs": [],
   "source": [
    "class InfiniteGenerator:\n",
    "    \"\"\"Equivalent to \n",
    "    \n",
    "    While True: \n",
    "        yield get_random_image(n_pixels) \n",
    "    \"\"\"\n",
    "    \n",
    "    def __init__(self, n_pixels):        \n",
    "        self.n_pixels = n_pixels\n",
    "\n",
    "    def __iter__(self):\n",
    "        \"\"\"turn the class into an iterable so it can be used in a for loop\"\"\"\n",
    "        \n",
    "        return self\n",
    "    \n",
    "    def __next__(self):\n",
    "        \"\"\"call get_image in the next step of the iteration\"\"\"\n",
    "        \n",
    "        return get_random_image(self.n_pixels)"
   ]
  },
  {
   "cell_type": "markdown",
   "metadata": {},
   "source": [
    "This guy right here is an infinite generator. You can initialize this similar to the gen_iterable function or use it in a for loop directly. If you iterate through `InfiniteGenerator()` it's just going to generate random 2D images forever (don't do it!). It's easy to implement extra conditions to customize this generator to your liking. Here's the standard way of setting a limit to the number of items the class is going to generate:"
   ]
  },
  {
   "cell_type": "code",
   "execution_count": 14,
   "metadata": {
    "ExecuteTime": {
     "end_time": "2020-06-30T22:59:28.199920Z",
     "start_time": "2020-06-30T22:59:22.932609Z"
    }
   },
   "outputs": [],
   "source": [
    "class LimitedGenerator:\n",
    "        \n",
    "    def __init__(self, n_images, n_pixels):\n",
    "        \"\"\"set limits for the iteration steps\"\"\"\n",
    "        \n",
    "        self.n_pixels = n_pixels\n",
    "        \n",
    "        # set a limit and start a counter\n",
    "        self.limit = n_images\n",
    "        self.counter = 0    \n",
    "    \n",
    "    def __iter__(self):\n",
    "        \"\"\"turn the class into an iterable so it can be used in a for loop\"\"\"\n",
    "        \n",
    "        return self\n",
    "    \n",
    "    def __next__(self):\n",
    "        \"\"\"generate the next item if limit hasn't been reached\"\"\"\n",
    "        \n",
    "        # Stop when counter reaches the limit\n",
    "        if self.counter < self.limit:\n",
    "            self.counter+=1\n",
    "            return np.random.rand(self.n_pixels, self.n_pixels)\n",
    "        else:\n",
    "            raise StopIteration\n",
    "            \n",
    "# example usage \n",
    "generator = LimitedGenerator(n_images, n_pixels)\n",
    "\n",
    "canvas = np.zeros_like(get_random_image(n_pixels))\n",
    "for item in generator:\n",
    "\n",
    "    canvas += item"
   ]
  },
  {
   "cell_type": "markdown",
   "metadata": {
    "ExecuteTime": {
     "end_time": "2020-06-30T17:30:03.633109Z",
     "start_time": "2020-06-30T17:30:03.624171Z"
    }
   },
   "source": [
    "But clearly we could do a lot more here! I could make the counter jump over odd numbers, or make the generator stop halfway through n_images, or make it restart after the counter is exhausted... The possibilities are endless much like generators so get creative!\n",
    "\n",
    "\n",
    "And for those who love lists:\n",
    "  \n",
    "**Pros and Cons of Generators**\n",
    "\n",
    "*Pros*\n",
    "- They can be used to make infinite lists\n",
    "- They are memory-efficient\n",
    "- They can be customized to one's heart content\n",
    "\n",
    "*Cons*\n",
    "- Once you use an item it's gone forever\n",
    "- You don't know how long they are until you reach the last item\n",
    "- can be only traversed serially (you can't jump from item 1 to 5 and back to 3)\n",
    "\n",
    "\n",
    "Check out the [python wiki](https://wiki.python.org/moin/Generators) for more details on generators. "
   ]
  },
  {
   "cell_type": "code",
   "execution_count": null,
   "metadata": {},
   "outputs": [],
   "source": []
  }
 ],
 "metadata": {
  "kernelspec": {
   "display_name": "Python 3",
   "language": "python",
   "name": "python3"
  },
  "latex_envs": {
   "LaTeX_envs_menu_present": true,
   "autoclose": false,
   "autocomplete": true,
   "bibliofile": "biblio.bib",
   "cite_by": "apalike",
   "current_citInitial": 1,
   "eqLabelWithNumbers": true,
   "eqNumInitial": 1,
   "hotkeys": {
    "equation": "Ctrl-E",
    "itemize": "Ctrl-I"
   },
   "labels_anchors": false,
   "latex_user_defs": false,
   "report_style_numbering": false,
   "user_envs_cfg": false
  },
  "toc": {
   "base_numbering": 1,
   "nav_menu": {},
   "number_sections": true,
   "sideBar": true,
   "skip_h1_title": false,
   "title_cell": "Table of Contents",
   "title_sidebar": "Contents",
   "toc_cell": false,
   "toc_position": {},
   "toc_section_display": true,
   "toc_window_display": false
  },
  "varInspector": {
   "cols": {
    "lenName": 16,
    "lenType": 16,
    "lenVar": 40
   },
   "kernels_config": {
    "python": {
     "delete_cmd_postfix": "",
     "delete_cmd_prefix": "del ",
     "library": "var_list.py",
     "varRefreshCmd": "print(var_dic_list())"
    },
    "r": {
     "delete_cmd_postfix": ") ",
     "delete_cmd_prefix": "rm(",
     "library": "var_list.r",
     "varRefreshCmd": "cat(var_dic_list()) "
    }
   },
   "types_to_exclude": [
    "module",
    "function",
    "builtin_function_or_method",
    "instance",
    "_Feature"
   ],
   "window_display": false
  }
 },
 "nbformat": 4,
 "nbformat_minor": 2
}
